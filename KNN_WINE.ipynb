{
  "nbformat": 4,
  "nbformat_minor": 0,
  "metadata": {
    "colab": {
      "provenance": []
    },
    "kernelspec": {
      "name": "python3",
      "display_name": "Python 3"
    },
    "language_info": {
      "name": "python"
    }
  },
  "cells": [
    {
      "cell_type": "code",
      "execution_count": null,
      "metadata": {
        "colab": {
          "base_uri": "https://localhost:8080/"
        },
        "id": "7UOWsckMLiiX",
        "outputId": "d7342711-3eff-4b87-b70b-08a629f2dd5f"
      },
      "outputs": [
        {
          "output_type": "stream",
          "name": "stdout",
          "text": [
            "Accuracy Holdout: 75.92592592592592%\n"
          ]
        }
      ],
      "source": [
        "# FREE WINE DATASET FROM\n",
        "# Aeberhard, S. & Forina, M. (1992). Wine [Dataset]. UCI Machine Learning Repository. https://doi.org/10.24432/C5PC7J.\n",
        "\n",
        "import pandas as pd\n",
        "import numpy as np\n",
        "# from ucimlrepo import fetch_ucirepo\n",
        "from sklearn.datasets import load_wine\n",
        "from sklearn.neighbors import KNeighborsClassifier\n",
        "from sklearn.model_selection import train_test_split\n",
        "from sklearn.metrics import accuracy_score\n",
        "\n",
        "# carregar dataset\n",
        "wine = load_wine()\n",
        "\n",
        "# criar estrutura dataframe\n",
        "df = pd.DataFrame(wine.data, columns=wine.feature_names)\n",
        "# adicionar targets no df, 0=Barolo , 1=Chianti , 2=Montepulciano\n",
        "df['target'] = wine.target\n",
        "df['target'] = df['target'].replace({0: 'Barolo', 1: 'Chianti', 2: 'Montepulciano'})\n",
        "df.head()\n",
        "\n",
        "df.describe()\n",
        "\n",
        "x = wine.data\n",
        "y = wine.target\n",
        "\n",
        "#print(x.shape, y.shape)\n",
        "\n",
        "\n",
        "### KNN com Holdout simples (70% treino - 30% teste)\n",
        "\n",
        "x_train, x_test, y_train, y_test = train_test_split(x, y, test_size=0.3, random_state=47, stratify=y)\n",
        "\n",
        "#print(x_train.shape, y_train.shape)\n",
        "#print(x_test.shape, y_test.shape)\n",
        "\n",
        "# Definir o modelo KNN com k=3\n",
        "classifier1 = KNeighborsClassifier(n_neighbors=3)\n",
        "\n",
        "# Treinar o modelo com os dados de treinamento\n",
        "classifier1.fit(x_train, y_train)\n",
        "\n",
        "# avaliar\n",
        "acc_holdout = classifier1.score(x_test, y_test)\n",
        "print(f'Accuracy Holdout: {acc_holdout*100}%')\n",
        "\n",
        "###"
      ]
    }
  ]
}